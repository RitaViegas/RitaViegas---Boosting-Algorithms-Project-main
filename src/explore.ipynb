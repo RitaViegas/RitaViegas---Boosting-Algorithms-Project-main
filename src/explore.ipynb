{
 "cells": [
  {
   "cell_type": "markdown",
   "metadata": {},
   "source": [
    "# DIABETES PREDICTION (Classification Problem)"
   ]
  },
  {
   "cell_type": "markdown",
   "metadata": {},
   "source": [
    "### Analyzing Diagnostic Factors Using BOOSTING ALGORITHMS"
   ]
  },
  {
   "cell_type": "code",
   "execution_count": null,
   "metadata": {},
   "outputs": [],
   "source": [
    "#Libraries\n",
    "\n",
    "import pandas as pd\n",
    "import matplotlib.pyplot as plt\n",
    "from xgboost import XGBClassifier\n",
    "from sklearn.model_selection import train_test_split, GridSearchCV\n",
    "from sklearn.metrics import accuracy_score, classification_report, confusion_matrix\n",
    "\n",
    "import joblib\n",
    "from pickle import dump\n",
    "import math\n",
    "import warnings\n",
    "warnings.filterwarnings(\"ignore\", category=FutureWarning)"
   ]
  },
  {
   "cell_type": "markdown",
   "metadata": {},
   "source": [
    "**STEP 1: PROBLEM STATEMENT & DATA COLLECTION**"
   ]
  },
  {
   "cell_type": "markdown",
   "metadata": {},
   "source": [
    "***1.1 PROBLEM STATEMENT***"
   ]
  },
  {
   "cell_type": "markdown",
   "metadata": {},
   "source": [
    "**Goal** -  predict based on diagnostic measures whether or not a patient has diabetes."
   ]
  },
  {
   "cell_type": "markdown",
   "metadata": {},
   "source": [
    "**6.2 SAVING THE CSV FILES**"
   ]
  },
  {
   "cell_type": "code",
   "execution_count": null,
   "metadata": {},
   "outputs": [],
   "source": [
    "#dfs_train = {\n",
    "    #'X_train_with_outliers_sel': X_train_with_outliers_sel,\n",
    "    #'X_train_without_outliers_sel': X_train_without_outliers_sel,\n",
    "    #'X_train_with_outliers_norm_sel': X_train_with_outliers_norm_sel,\n",
    "    #'X_train_without_outliers_norm_sel': X_train_without_outliers_norm_sel,\n",
    "    #'X_train_with_outliers_minmax_sel': X_train_with_outliers_minmax_sel,\n",
    "    #'X_train_without_outliers_minmax_sel': X_train_without_outliers_minmax_sel \n",
    "#}\n",
    "\n",
    "#dfs_test = {\n",
    "#    'X_test_with_outliers_sel': X_test_with_outliers_sel,\n",
    "#    'X_test_without_outliers_sel': X_test_without_outliers_sel,\n",
    "#    'X_test_with_outliers_norm_sel': X_test_with_outliers_norm_sel,\n",
    "#    'X_test_without_outliers_norm_sel': X_test_without_outliers_norm_sel,\n",
    "#    'X_test_with_outliers_minmax_sel': X_test_with_outliers_minmax_sel,\n",
    "#    'X_test_without_outliers_minmax_sel': X_test_without_outliers_minmax_sel    \n",
    "#}\n",
    "\n",
    "#for name, df in dfs_train.items():\n",
    "#    df.to_csv(f\"../data/processed/{name}.csv\", index=False)\n",
    "\n",
    "#for name, df in dfs_test.items(): \n",
    "#    df.to_csv(f'../data/processed/{name}.csv', index=False)"
   ]
  },
  {
   "cell_type": "code",
   "execution_count": null,
   "metadata": {},
   "outputs": [],
   "source": [
    "# Load the processed datasets\n",
    "\n",
    "# WITH outliers\n",
    "X_train_with_outliers = pd.read_csv(\"../data/processed/X_train_with_outliers.csv\")\n",
    "X_test_with_outliers = pd.read_csv(\"../data/processed/X_test_with_outliers.csv\")\n",
    "\n",
    "# WITHOUT outliers\n",
    "X_train_without_outliers = pd.read_csv(\"../data/processed/X_train_without_outliers.csv\")\n",
    "X_test_without_outliers = pd.read_csv(\"../data/processed/X_test_without_outliers.csv\")\n",
    "\n",
    "# TARGET VARIABLE\n",
    "y_train = pd.read_csv(\"../data/processed/y_train.csv\")\n",
    "y_test = pd.read_csv(\"../data/processed/y_test.csv\")\n"
   ]
  },
  {
   "cell_type": "markdown",
   "metadata": {},
   "source": [
    "## MACHINE LEARNING"
   ]
  },
  {
   "cell_type": "markdown",
   "metadata": {},
   "source": [
    " ## **BOOSTING FOR CLASSIFICATION**"
   ]
  },
  {
   "cell_type": "code",
   "execution_count": 13,
   "metadata": {},
   "outputs": [
    {
     "name": "stdout",
     "output_type": "stream",
     "text": [
      "Accuracy WITH outliers: 0.7662337662337663\n",
      "Accuracy WITHOUT outliers: 0.7727272727272727\n"
     ]
    }
   ],
   "source": [
    "# Train with the dataset WITH outliers\n",
    "model_with_outliers = XGBClassifier(random_state=42)\n",
    "model_with_outliers.fit(X_train_with_outliers, y_train)\n",
    "y_pred_with_outliers = model_with_outliers.predict(X_test_with_outliers)\n",
    "accuracy_with_outliers = accuracy_score(y_test, y_pred_with_outliers)\n",
    "print(f\"Accuracy WITH outliers: {accuracy_with_outliers}\")\n",
    "\n",
    "# Train with the dataset WITHOUT outliers\n",
    "model_without_outliers = XGBClassifier(random_state=42)\n",
    "model_without_outliers.fit(X_train_without_outliers, y_train)\n",
    "y_pred_without_outliers = model_without_outliers.predict(X_test_without_outliers)\n",
    "accuracy_without_outliers = accuracy_score(y_test, y_pred_without_outliers)\n",
    "print(f\"Accuracy WITHOUT outliers: {accuracy_without_outliers}\")\n",
    "\n"
   ]
  },
  {
   "cell_type": "code",
   "execution_count": null,
   "metadata": {},
   "outputs": [
    {
     "name": "stdout",
     "output_type": "stream",
     "text": [
      "\n",
      "Metrics for the model WITH outliers:\n",
      "Accuracy: 0.7662337662337663\n",
      "Confusion Matrix:\n",
      "[[77 19]\n",
      " [17 41]]\n",
      "Classification Report:\n",
      "              precision    recall  f1-score   support\n",
      "\n",
      "           0       0.82      0.80      0.81        96\n",
      "           1       0.68      0.71      0.69        58\n",
      "\n",
      "    accuracy                           0.77       154\n",
      "   macro avg       0.75      0.75      0.75       154\n",
      "weighted avg       0.77      0.77      0.77       154\n",
      "\n",
      "\n",
      "Metrics for the model WITHOUT outliers:\n",
      "Accuracy: 0.7727272727272727\n",
      "Confusion Matrix:\n",
      "[[76 20]\n",
      " [15 43]]\n",
      "Classification Report:\n",
      "              precision    recall  f1-score   support\n",
      "\n",
      "           0       0.84      0.79      0.81        96\n",
      "           1       0.68      0.74      0.71        58\n",
      "\n",
      "    accuracy                           0.77       154\n",
      "   macro avg       0.76      0.77      0.76       154\n",
      "weighted avg       0.78      0.77      0.77       154\n",
      "\n"
     ]
    }
   ],
   "source": [
    "# Model evaluation WITH outliers\n",
    "print(\"\\nMetrics for the model WITH outliers:\")\n",
    "print(f\"Accuracy: {accuracy_with_outliers}\")\n",
    "print(\"Confusion Matrix:\")\n",
    "print(confusion_matrix(y_test, y_pred_with_outliers))\n",
    "print(\"Classification Report:\")\n",
    "print(classification_report(y_test, y_pred_with_outliers))\n",
    "\n",
    "# Model evaluation WITHOUT outliers\n",
    "print(\"\\nMetrics for the model WITHOUT outliers:\")\n",
    "print(f\"Accuracy: {accuracy_without_outliers}\")\n",
    "print(\"Confusion Matrix:\")\n",
    "print(confusion_matrix(y_test, y_pred_without_outliers))\n",
    "print(\"Classification Report:\")\n",
    "print(classification_report(y_test, y_pred_without_outliers))\n"
   ]
  },
  {
   "cell_type": "markdown",
   "metadata": {},
   "source": [
    "#### DECISION:\n",
    "\n",
    "Based on metrics:\n",
    "\n",
    "The model WITHOUT outliers is preferable as it performs slightly better in terms of recall and F1-Score for class 1, which is important when we want to capture more positive examples (class 1) with fewer errors."
   ]
  },
  {
   "cell_type": "code",
   "execution_count": null,
   "metadata": {},
   "outputs": [],
   "source": []
  },
  {
   "cell_type": "markdown",
   "metadata": {},
   "source": [
    "#### **OPTIMIZING BOOSTING ALGORITHM MODEL**"
   ]
  },
  {
   "cell_type": "code",
   "execution_count": null,
   "metadata": {},
   "outputs": [
    {
     "name": "stdout",
     "output_type": "stream",
     "text": [
      "Fitting 3 folds for each of 108 candidates, totalling 324 fits\n",
      "Best Hyperparameters: {'colsample_bytree': 0.8, 'learning_rate': 0.01, 'max_depth': 3, 'n_estimators': 150, 'subsample': 1.0}\n"
     ]
    }
   ],
   "source": [
    "# Base model\n",
    "model = XGBClassifier(random_state=42)\n",
    "\n",
    "# Hyperparameters\n",
    "param_grid = {\n",
    "    'learning_rate': [0.01, 0.1, 0.2],\n",
    "    'n_estimators': [50, 100, 150],\n",
    "    'subsample': [0.8, 1.0],\n",
    "    'max_depth': [3, 5, 7],\n",
    "    'colsample_bytree': [0.8, 1.0]\n",
    "}\n",
    "\n",
    "# Optimization with GridSearch\n",
    "grid_search = GridSearchCV(estimator=model, param_grid=param_grid, cv=3, scoring='accuracy', verbose=1)\n",
    "grid_search.fit(X_train_without_outliers, y_train)\n",
    "\n",
    "\n",
    "print(f\"Best Hyperparameters: {grid_search.best_params_}\")\n",
    "best_model = grid_search.best_estimator_\n"
   ]
  },
  {
   "cell_type": "code",
   "execution_count": 26,
   "metadata": {},
   "outputs": [],
   "source": [
    "# Train the final model with the best hyperparameters\n",
    "\n",
    "# Training the final model\n",
    "best_model.fit(X_train_without_outliers, y_train)\n",
    "\n",
    "# Predicting the final model\n",
    "y_pred_final = best_model.predict(X_test_without_outliers)\n"
   ]
  },
  {
   "cell_type": "code",
   "execution_count": 23,
   "metadata": {},
   "outputs": [
    {
     "name": "stdout",
     "output_type": "stream",
     "text": [
      "Final Model Accuracy: 0.7662337662337663\n",
      "\n",
      "Final Model Confusion Matrix:\n",
      "[[89  7]\n",
      " [29 29]]\n",
      "\n",
      "Final Model Classification Report:\n",
      "              precision    recall  f1-score   support\n",
      "\n",
      "           0       0.75      0.93      0.83        96\n",
      "           1       0.81      0.50      0.62        58\n",
      "\n",
      "    accuracy                           0.77       154\n",
      "   macro avg       0.78      0.71      0.72       154\n",
      "weighted avg       0.77      0.77      0.75       154\n",
      "\n"
     ]
    }
   ],
   "source": [
    "# Accuracy\n",
    "accuracy_final = accuracy_score(y_test, y_pred_final)\n",
    "print(f\"Final Model Accuracy: {accuracy_final}\")\n",
    "\n",
    "# Matriz de Confusão\n",
    "print(\"\\nFinal Model Confusion Matrix:\")\n",
    "print(confusion_matrix(y_test, y_pred_final))\n",
    "\n",
    "# Relatório de Classificação\n",
    "print(\"\\nFinal Model Classification Report:\")\n",
    "print(classification_report(y_test, y_pred_final))\n"
   ]
  },
  {
   "cell_type": "markdown",
   "metadata": {},
   "source": [
    "#### **Saving Optimized Boosting Algorithms model**"
   ]
  },
  {
   "cell_type": "code",
   "execution_count": 27,
   "metadata": {},
   "outputs": [
    {
     "name": "stdout",
     "output_type": "stream",
     "text": [
      "Final model saved successfully!\n"
     ]
    }
   ],
   "source": [
    "# Saving the final model\n",
    "best_model.save_model(\"xgb_final_model_without_outliers.json\")\n",
    "print(\"Final model saved successfully!\")\n"
   ]
  }
 ],
 "metadata": {
  "kernelspec": {
   "display_name": "Python 3",
   "language": "python",
   "name": "python3"
  },
  "language_info": {
   "codemirror_mode": {
    "name": "ipython",
    "version": 3
   },
   "file_extension": ".py",
   "mimetype": "text/x-python",
   "name": "python",
   "nbconvert_exporter": "python",
   "pygments_lexer": "ipython3",
   "version": "3.11.9"
  },
  "orig_nbformat": 4
 },
 "nbformat": 4,
 "nbformat_minor": 2
}
